{
  "nbformat": 4,
  "nbformat_minor": 0,
  "metadata": {
    "hide_input": false,
    "kernelspec": {
      "display_name": "Python 3",
      "language": "python",
      "name": "python3"
    },
    "language_info": {
      "codemirror_mode": {
        "name": "ipython",
        "version": 3
      },
      "file_extension": ".py",
      "mimetype": "text/x-python",
      "name": "python",
      "nbconvert_exporter": "python",
      "pygments_lexer": "ipython3",
      "version": "3.7.1"
    },
    "colab": {
      "name": "feladat01.ipynb",
      "provenance": []
    }
  },
  "cells": [
    {
      "cell_type": "markdown",
      "metadata": {
        "id": "BrjbAqF7dFwX"
      },
      "source": [
        "# Feladatok\n",
        "\n",
        "\n",
        "\n",
        "----\n"
      ]
    },
    {
      "cell_type": "markdown",
      "metadata": {
        "id": "4u3wvRgsdFwa"
      },
      "source": [
        "## 1. Feladat\n",
        "#### Listák - I.\n",
        "\n",
        "Galileo Galilei egyik gondolatát küdték el nekünk SMS-ben, de sajnos hálózati hiba miatt nem sorrendben érkeztek meg a szavak. A következőt olvastuk a telefonunkban:"
      ]
    },
    {
      "cell_type": "code",
      "metadata": {
        "id": "KiIy4GbidFwb"
      },
      "source": [
        "sms=['Szentírás ', 'bölcs ', 'a ', 'már ', 'szükséges ', 'mondhat ', 'biztosak ', 'a ',\n",
        "     'feladata, ', 'Mivel ', 'ellent ', 'a ', 'érzéki ', 'azokkal ', 'következtetésekkel, ',\n",
        "     'a ', 'vagyunk ', 'a ', 'tapasztalataink ', 'szöveg ', 'azon ', 'igazság ', 'sose ',\n",
        "     'ami ', 'hogy ', 'melyekben ', 'kísérletek ', 'megtalálják ', 'által.', 'két ', 'fizikai ',\n",
        "     'egymásnak, ', 'egyezik ', 'és ', 'értelmezőinek ', 'értelmezését, ']"
      ],
      "execution_count": null,
      "outputs": []
    },
    {
      "cell_type": "markdown",
      "metadata": {
        "id": "kRAM2StCdFwf"
      },
      "source": [
        "Később a telefonszolgáltató megtalálta a hiba okát, és elküldte, hogy milyen sorrendben kaptuk meg az eredeti szöveg szavait:"
      ]
    },
    {
      "cell_type": "code",
      "metadata": {
        "id": "YfEx-oA7dFwg"
      },
      "source": [
        "sorrend=[8,9,15,26,33,4,27,11,12,0,5,32,29,21,24,22,28,7,30,16,17,2,3,19,13,25,34,14,35,1,23,6,20,31,10,18]"
      ],
      "execution_count": null,
      "outputs": []
    },
    {
      "cell_type": "markdown",
      "metadata": {
        "id": "sA6gpmXJdFwj"
      },
      "source": [
        "Azaz az általunk megkapott első szó az eredeti szövegben a 8-as indexet viselte, azaz a 9. volt.\n",
        "\n",
        "Írj egy olyan programot, ami helyreállítja az idézetet, valamint össze is fűzi a lista elemeit egy mondattá."
      ]
    },
    {
      "cell_type": "code",
      "source": [
        "list_array = [[sms[i], sorrend[i]] for i in range(len(sorrend))]\n",
        "\n",
        "list_array.sort(key=lambda x: x[1])\n",
        "sorted_strings = [lst[0] for lst in list_array]\n",
        "\n",
        "readable_sentence = ''.join(sorted_strings)\n",
        "\n",
        "print(readable_sentence)\n"
      ],
      "metadata": {
        "colab": {
          "base_uri": "https://localhost:8080/"
        },
        "id": "GkopRcezdSxC",
        "outputId": "bff2b685-a32f-423d-fc46-475820d6cc2a"
      },
      "execution_count": null,
      "outputs": [
        {
          "output_type": "stream",
          "name": "stdout",
          "text": [
            "Mivel két igazság sose mondhat ellent egymásnak, a Szentírás bölcs értelmezőinek a feladata, hogy megtalálják a szöveg azon értelmezését, ami egyezik azokkal a fizikai következtetésekkel, melyekben már biztosak vagyunk érzéki tapasztalataink és a szükséges kísérletek által.\n"
          ]
        }
      ]
    },
    {
      "cell_type": "markdown",
      "metadata": {
        "id": "trwhokPldFwk"
      },
      "source": [
        "## 2. Feladat\n",
        "\n",
        "#### Dictionary - I.\n",
        "\n",
        "Írjatok egy függvényt, ami a megadott szótár segítségével tetszőleges magyar szöveget angolra fordít!\n",
        "\n",
        "- A fordítás történjen szóról szóra.\n",
        "- Ha ismeretlen szóval találkoztok, akkor csináljátok azt, amit a Google Translator: csak írjátok ki az eredeti szót fordítás nélkül. ( A szöveg többi részét természetesen le kell fordítani.)\n",
        "- Nem baj, ha nyelvtanilag nem helyes vagy értelmetlen a fordítás."
      ]
    },
    {
      "cell_type": "code",
      "metadata": {
        "id": "9tGUdBQndFwl"
      },
      "source": [
        "szotar={'a':'the',\n",
        "        'majom': 'monkey',\n",
        "        'kutya':'dog',\n",
        "        'szereti':'likes',\n",
        "        'banánt':'banana',\n",
        "        'kolbászt':'sausage'}\n",
        "\n",
        "pelda_szoveg='a majom szereti a banánt minden kutya szereti a kolbászt'"
      ],
      "execution_count": 1,
      "outputs": []
    },
    {
      "cell_type": "code",
      "source": [
        "def translate_to_english(text, translation_dict):\n",
        "    words = text.split()\n",
        "    translated_text = []\n",
        "\n",
        "    for word in words:\n",
        "        translated_word = translation_dict.get(word, word)\n",
        "        translated_text.append(translated_word)\n",
        "\n",
        "    return ' '.join(translated_text)\n",
        "\n",
        "zotar = {'a': 'the', 'majom': 'monkey', 'kutya': 'dog', 'szereti': 'likes', 'banánt': 'banana', 'kolbászt': 'sausage'}\n",
        "\n",
        "pelda_szoveg = 'a majom szereti a banánt minden kutya szereti a kolbászt'\n",
        "\n",
        "forditott_szoveg = translate_to_english(pelda_szoveg, zotar)\n",
        "print(forditott_szoveg)"
      ],
      "metadata": {
        "colab": {
          "base_uri": "https://localhost:8080/"
        },
        "id": "33TImgJ0lVdg",
        "outputId": "01d054aa-4f2b-4171-c90f-c12cda24865e"
      },
      "execution_count": 2,
      "outputs": [
        {
          "output_type": "stream",
          "name": "stdout",
          "text": [
            "the monkey likes the banana minden dog likes the sausage\n"
          ]
        }
      ]
    },
    {
      "cell_type": "markdown",
      "metadata": {
        "id": "dK---IxJdFwo"
      },
      "source": [
        "## 3. feladat\n",
        "\n",
        "#### Függvények - II.\n",
        "\n",
        "Írj egy függvényt, ami a $$ ax^2+bx+c=0 $$ másodfokú egyenlet (valós és komplex) gyökeit határozza meg. Csak akkor kapjunk eredményként komplex számot, ha a diszkrimináns negatív!\n",
        "\n",
        "Példaként add meg a következő négy egyenlet megoldását:\n",
        "1. $x^2=100$\n",
        "2. $3x^2-25x=10$\n",
        "3. $-4x^2+4x=1$\n",
        "4. $25x^2+16x=-100$"
      ]
    },
    {
      "cell_type": "code",
      "metadata": {
        "id": "iHHzPu_jdFwp",
        "colab": {
          "base_uri": "https://localhost:8080/"
        },
        "outputId": "771eb74a-ead7-4777-9089-6913faa819ff"
      },
      "source": [
        "import cmath\n",
        "\n",
        "def masodfoku(a, b, c):\n",
        "    diszkriminans = pow((b**2 - 4*a*c),0.5)\n",
        "\n",
        "    gyok1 = (-b + diszkriminans) / (2*a)\n",
        "    gyok2 = (-b - diszkriminans) / (2*a)\n",
        "\n",
        "    return gyok1, gyok2\n",
        "\n",
        "# Példák\n",
        "egyenlet_1 = masodfoku(1, 0, -100)\n",
        "egyenlet_2 = masodfoku(3, -25, -10)\n",
        "egyenlet_3 = masodfoku(-4, 4, -1)\n",
        "egyenlet_4 = masodfoku(25, 16, 100)\n",
        "\n",
        "print(\"Egyenlet 1 megoldásai:\", egyenlet_1)\n",
        "print(\"Egyenlet 2 megoldásai:\", egyenlet_2)\n",
        "print(\"Egyenlet 3 megoldásai:\", egyenlet_3)\n",
        "print(\"Egyenlet 4 megoldásai:\", egyenlet_4)"
      ],
      "execution_count": 8,
      "outputs": [
        {
          "output_type": "stream",
          "name": "stdout",
          "text": [
            "Egyenlet 1 megoldásai: (10.0, -10.0)\n",
            "Egyenlet 2 megoldásai: (8.71578135465206, -0.38244802131872707)\n",
            "Egyenlet 3 megoldásai: (0.5, 0.5)\n",
            "Egyenlet 4 megoldásai: ((-0.3199999999999999+1.9742340286804907j), (-0.3200000000000001-1.9742340286804907j))\n"
          ]
        }
      ]
    },
    {
      "cell_type": "markdown",
      "metadata": {
        "id": "PxmZy_IRdFws"
      },
      "source": [
        "## 4. Feladat\n",
        "\n",
        "#### Docstring és változó számú argumentumok - I.\n",
        "\n",
        "Írjunk egy függvényt, amely egy kezdőértékből, egy kvóciensből és egy N egész számból legyárt egy N hosszú mértani sorozatot.\n",
        "\n",
        "Az általunk megírt függvény teljesítse a következő feltételeket:\n",
        "- írjunk **docstringet**,\n",
        "- a függvény egy listával **térjen vissza**\n",
        "- ha egy bemeneti értéke van, akkor azt tekintse kezdőértéknek, a kvóciens legyen 0.5, N pedig 10\n",
        "- ha két bemeneti érték van, akkor az első legyen a kezdőérték, a második a kvóciens, N pedig 10\n",
        "- ha megvan mind a három paraméter, akkor ugyanúgy viselkedjen, mint ahogy azt az előző feladatban tette"
      ]
    },
    {
      "cell_type": "code",
      "metadata": {
        "id": "gemtKC0SdFws",
        "outputId": "bbf137d1-12e4-4148-f25e-9796d9458aad",
        "colab": {
          "base_uri": "https://localhost:8080/"
        }
      },
      "source": [
        "def mertani(x0,q=0.5,N=10):\n",
        "    \"\"\" General egy N hosszusagu mertani sorozatot a megadott kezdoertekkel, kvocienssel es N ertekkel.\n",
        "\n",
        "    Args:\n",
        "    - x0 (float): A mertani sorozat kezdoerteke.\n",
        "    - q (float): A mertani sorozat kvociense.\n",
        "    - N (int): A mertani sorozat hossza.\n",
        "\n",
        "    Returns:\n",
        "    - list: Az N hosszu mertani sorozatot tartalmazo lista.\"\"\" # ide jön a docstring\n",
        "\n",
        "    geometric_sequence_list = [x0 * q**i for i in range(N)]\n",
        "    return geometric_sequence_list\n",
        "\n",
        "#teszt\n",
        "print(mertani(2))\n",
        "print(mertani(2, 3))\n",
        "print(mertani(2, 3, 5))"
      ],
      "execution_count": 11,
      "outputs": [
        {
          "output_type": "stream",
          "name": "stdout",
          "text": [
            "[2.0, 1.0, 0.5, 0.25, 0.125, 0.0625, 0.03125, 0.015625, 0.0078125, 0.00390625]\n",
            "[2, 6, 18, 54, 162, 486, 1458, 4374, 13122, 39366]\n",
            "[2, 6, 18, 54, 162]\n"
          ]
        }
      ]
    },
    {
      "cell_type": "markdown",
      "metadata": {
        "id": "76srIpUudFwv"
      },
      "source": [
        "##  5. feladat\n",
        "\n",
        "#### Dictionary - II.\n",
        "\n",
        "A harmadik feladat magyar-angol szótárának megfordításával készítsétek el az angol-magyar szótárt, majd ennek segítségével a függvényt, ami tetszőleges angol szöveget magyarra fordít!\n",
        "\n",
        "- A kézzel bevitt szótár nem jó megoldás! (használjátok a `dict` típus `items()` tagfüggvényét!)\n",
        "\n",
        "- Ha ismeretlen szóval találkoztok, akkor csináljátok azt, amit a Google Translator: csak írjátok ki az eredeti szót fordítás nélkül. ( A szöveg többi részét természetesen le kell fordítani.)\n",
        "\n",
        "- Nem baj, ha nyelvtanilag nem helyes, vagy értelmetlen a fordítás.\n",
        "\n",
        "----"
      ]
    },
    {
      "cell_type": "code",
      "metadata": {
        "id": "yM95f8I0dFwv",
        "outputId": "0315f018-de3e-4fdf-f1e5-0091629636c8",
        "colab": {
          "base_uri": "https://localhost:8080/"
        }
      },
      "source": [
        "def translate_to_hungarian(text, translation_dict):\n",
        "    text = text.lower()\n",
        "    words = text.split()\n",
        "    translated_text = \"\"\n",
        "\n",
        "    for word in words:\n",
        "      for key, value in translation_dict.items():\n",
        "        if '.' in word:\n",
        "          word = word[:-1]\n",
        "\n",
        "        if value == word:\n",
        "          translated_word = key\n",
        "          translated_text += translated_word + ' '\n",
        "\n",
        "    return translated_text.strip()\n",
        "\n",
        "szotar = {'a':'the',\n",
        "          'majom': 'monkey',\n",
        "          'kutya':'dog',\n",
        "          'szereti':'likes',\n",
        "          'banánt':'banana',\n",
        "          'kolbászt':'sausage'}\n",
        "\n",
        "angol_mondat = 'The monkey likes banana. Every dog likes sausage.'\n",
        "\n",
        "forditott_szoveg = translate_to_hungarian(angol_mondat, szotar)\n",
        "print(forditott_szoveg)"
      ],
      "execution_count": 34,
      "outputs": [
        {
          "output_type": "stream",
          "name": "stdout",
          "text": [
            "a majom szereti banánt kutya szereti kolbászt\n"
          ]
        }
      ]
    },
    {
      "cell_type": "markdown",
      "metadata": {
        "id": "-qRGQ5HIdFwy"
      },
      "source": [
        "##  6. feladat\n",
        "\n",
        "#### Kulcsszavas függvény változó számú argumentummal\n",
        "\n",
        "Írjunk egy függvényt, amely egy adott **x** array-ben tárolt valós értékekre kiértékel egy tetszőleges polinomfüggvényt, vagy ábrázolja azt!\n",
        "- A polinom-együtthatókat egy tetszőleges hosszúságú **args** nevű váltózóban kapjuk.\n",
        "- Ha a **kwargs** kulcsszavas argumentumban a `csinal_kepet` kulcsszo `True` akkor ábrázoljuk a polinomot és ne térjünk vissza semmilyen értékkel, ellenkező esetben a függvény térjen vissza egy array változóval amely polinom értékeit tartalmazza az **x** változóban tárolt helyeken.\n",
        "- Az ábrázolás stilisztikai paramétereit a függvénynek adott egyéb kulcsszavas argumentumok segítségével állítsuk be!"
      ]
    },
    {
      "cell_type": "code",
      "metadata": {
        "id": "sJiHJMyLdFwy",
        "outputId": "ac78f322-5b59-4d04-d7da-89e67b1f50a7",
        "colab": {
          "base_uri": "https://localhost:8080/",
          "height": 472
        }
      },
      "source": [
        "import numpy as np\n",
        "import matplotlib.pyplot as plt\n",
        "\n",
        "def fuggveny(x, *args, **kwargs):\n",
        "    \"\"\"\n",
        "    Kiértékel vagy ábrázol egy polinomot.\n",
        "\n",
        "    Args:\n",
        "    - x (array-like): Az x értékek tömbje.\n",
        "    - *args: A polinom együtthatói.\n",
        "    - **kwargs:\n",
        "        - csinal_kepet (bool): Ábrázolja-e a polinomot. Alapértelmezett értéke False.\n",
        "        - plot_kwargs (dict): Ábrázolás stilisztikai paraméterek.\n",
        "\n",
        "    Returns:\n",
        "    - array vagy None: Ha csinal_kepet True, akkor None, különben az értékeket tartalmazó tömb.\n",
        "    \"\"\"\n",
        "    polynomial_values = np.polyval(args, x)\n",
        "\n",
        "    csinal_kepet = kwargs.get('csinal_kepet', False)\n",
        "    if csinal_kepet:\n",
        "        plot_kwargs = kwargs.get('plot_kwargs', {})\n",
        "        plt.plot(x, polynomial_values, **plot_kwargs)\n",
        "        plt.xlabel('x')\n",
        "        plt.ylabel('Polinom értékei')\n",
        "        plt.title('Polinom ábrázolása')\n",
        "        plt.show()\n",
        "        return None\n",
        "    else:\n",
        "        return polynomial_values\n",
        "\n",
        "# Példa: Ábrázolással\n",
        "x_values = np.linspace(-5, 5, 100)\n",
        "fuggveny(x_values, 1, -2, 1, csinal_kepet=True, plot_kwargs={'color': 'red', 'linestyle': 'dashed', 'marker': 'o'})\n"
      ],
      "execution_count": 37,
      "outputs": [
        {
          "output_type": "display_data",
          "data": {
            "text/plain": [
              "<Figure size 640x480 with 1 Axes>"
            ],
            "image/png": "[encoded data removed]"
          },
          "metadata": {}
        }
      ]
    },
    {
      "cell_type": "markdown",
      "metadata": {
        "id": "PuID9ktLdFw1"
      },
      "source": [
        "## 7. feladat\n",
        "\n",
        "#### Listák - II.\n",
        "\n",
        "Ábrázold hisztogramon az [Anyám tyúkja](http://magyar-irodalom.elte.hu/sulinet/igyjo/setup/portrek/petofi/anyamtyu.htm) versben a szavak hosszának eloszlását."
      ]
    },
    {
      "cell_type": "code",
      "source": [
        "import matplotlib.pyplot as plt\n",
        "\n",
        "vers_szovege = \"\"\"\n",
        "ANYÁM TYÚKJA\n",
        "Ej mi a kő! tyúkanyó, kend\n",
        "A szobában lakik itt bent?\n",
        "Lám, csak jó az isten, jót ád,\n",
        "Hogy fölvitte a kend dolgát!\n",
        "\n",
        "Itt szaladgál föl és alá,\n",
        "Még a ládára is fölszáll,\n",
        "Eszébe jut, kotkodákol,\n",
        "S nem verik ki a szobábol.\n",
        "\n",
        "Dehogy verik, dehogy verik!\n",
        "Mint a galambot etetik,\n",
        "Válogat a kendermagban,\n",
        "A kiskirály sem él jobban.\n",
        "\n",
        "Ezért aztán, tyúkanyó, hát\n",
        "Jól megbecsűlje kend magát,\n",
        "Iparkodjék, ne legyen ám\n",
        "Tojás szűkében az anyám. –\n",
        "\n",
        "Morzsa kutyánk, hegyezd füled,\n",
        "Hadd beszélek mostan veled,\n",
        "Régi cseléd vagy a háznál,\n",
        "Mindig emberűl szolgáltál,\n",
        "\n",
        "Ezután is jó légy, Morzsa,\n",
        "Kedvet ne kapj a tyúkhusra,\n",
        "Élj a tyúkkal barátságba’...\n",
        "Anyám egyetlen jószága.\n",
        "\"\"\"\n",
        "\n",
        "def hisztogramot_rajzol(vers_szoveg):\n",
        "    szavak = vers_szoveg.split()\n",
        "    tisztitott_szavak = [''.join(c for c in szo if c.isalpha()) for szo in szavak]\n",
        "    hosszak = [len(szo) for szo in tisztitott_szavak]\n",
        "    # print(tisztitott_szavak)\n",
        "    # print(hosszak)\n",
        "\n",
        "    plt.hist(hosszak, bins=range(min(hosszak), max(hosszak) + 1), edgecolor='black', align='left')\n",
        "    plt.xlabel('Szóhossz')\n",
        "    plt.ylabel('Gyakoriság')\n",
        "    plt.title('Szóhossz eloszlása az \"Anyám tyúkja\" versben')\n",
        "    plt.xticks(range(min(hosszak), max(hosszak) + 1))\n",
        "    plt.yticks(range(0, 20))\n",
        "\n",
        "    plt.show()\n",
        "\n",
        "hisztogramot_rajzol(vers_szovege)\n"
      ],
      "metadata": {
        "id": "D-pcFensNP2m",
        "outputId": "6ac599bf-e060-47d0-f33b-d3c5936a9491",
        "colab": {
          "base_uri": "https://localhost:8080/",
          "height": 472
        }
      },
      "execution_count": 50,
      "outputs": [
        {
          "output_type": "display_data",
          "data": {
            "text/plain": [
              "<Figure size 640x480 with 1 Axes>"
            ],
            "image/png": "[encoded data removed]"
          },
          "metadata": {}
        }
      ]
    },
    {
      "cell_type": "markdown",
      "metadata": {
        "id": "CAAfXZzzdFw2"
      },
      "source": [
        "##  8. Péksütemény\n",
        "\n",
        "#### Véletlen számok-II\n",
        "\n",
        "Írj egy olyan függvényt, melynek bemeneti értéke a $p$ valószínűség (mely egy 0 és 1 közötti szám), kimeneti értéke pedig $p$ valószínűséggel a \"kakaós csiga\" string, 1-$p$ valószínűséggel pedig a \"túrós táska\" string. Demonstráld hisztogram segítségével, hogy a függvényed helyes eloszlással generálja a kívánt péksüteményeket!"
      ]
    },
    {
      "cell_type": "code",
      "metadata": {
        "id": "YiU_180sdFw2",
        "outputId": "c7e7c13b-e0fa-409a-ca18-95c9a0f4e50e",
        "colab": {
          "base_uri": "https://localhost:8080/",
          "height": 473
        }
      },
      "source": [
        "import matplotlib.pyplot as plt\n",
        "import numpy as np\n",
        "\n",
        "def generate_sweet_treat(p):\n",
        "    if np.random.rand() < p:\n",
        "        return \"kakaós csiga\"\n",
        "    else:\n",
        "        return \"túrós táska\"\n",
        "\n",
        "p_probability = 0.9\n",
        "num_samples = 1000\n",
        "\n",
        "generated_sweets = [generate_sweet_treat(p_probability) for _ in range(num_samples)]\n",
        "\n",
        "bins = np.arange(-0.5, 2, 1)\n",
        "plt.hist(generated_sweets, bins=bins, edgecolor='black', align='left')\n",
        "plt.xticks([0, 1], ['kakaós csiga', 'túrós táska'])\n",
        "plt.title('Generált Péksütemények eloszlása')\n",
        "plt.xlabel('Péksütemény típus')\n",
        "plt.ylabel('Gyakoriság')\n",
        "plt.show()\n"
      ],
      "execution_count": 68,
      "outputs": [
        {
          "output_type": "display_data",
          "data": {
            "text/plain": [
              "<Figure size 640x480 with 1 Axes>"
            ],
            "image/png": "[encoded data removed]"
          },
          "metadata": {}
        }
      ]
    }
  ]
}